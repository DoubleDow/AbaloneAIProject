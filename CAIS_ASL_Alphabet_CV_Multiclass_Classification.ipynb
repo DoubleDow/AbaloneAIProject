{
  "nbformat": 4,
  "nbformat_minor": 0,
  "metadata": {
    "colab": {
      "provenance": [],
      "authorship_tag": "ABX9TyMSp6jT8hhST+8wdfZuOH/Z",
      "include_colab_link": true
    },
    "kernelspec": {
      "name": "python3",
      "display_name": "Python 3"
    },
    "language_info": {
      "name": "python"
    }
  },
  "cells": [
    {
      "cell_type": "markdown",
      "metadata": {
        "id": "view-in-github",
        "colab_type": "text"
      },
      "source": [
        "<a href=\"https://colab.research.google.com/github/nathaniellamjohnson/AbaloneAIProject/blob/main/CAIS_ASL_Alphabet_CV_Multiclass_Classification.ipynb\" target=\"_parent\"><img src=\"https://colab.research.google.com/assets/colab-badge.svg\" alt=\"Open In Colab\"/></a>"
      ]
    },
    {
      "cell_type": "code",
      "execution_count": null,
      "metadata": {
        "id": "LfUSSyFH2mwq"
      },
      "outputs": [],
      "source": [
        "#  CAIS-ASL-Alphabet-CV-Multiclass-Classification\n"
      ]
    }
  ]
}